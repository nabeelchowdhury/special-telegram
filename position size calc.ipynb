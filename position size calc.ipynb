{
 "cells": [
  {
   "cell_type": "code",
   "execution_count": 3,
   "metadata": {},
   "outputs": [
    {
     "name": "stdout",
     "output_type": "stream",
     "text": [
      "\n",
      "--- Position Size Calculator ---\n",
      "Account Size: $100000.00\n",
      "Percentage Risked: 1.00%\n",
      "Entry Price: $69000.00\n",
      "Stop-Loss Price: $65000.00\n",
      "Exit Price: $72000.00\n",
      "Leverage Used: 2.00x\n",
      "Position Size: $0.50 (notional value)\n",
      "Risk to Reward Ratio: 0.75\n",
      "Estimated PnL: $-250.00\n",
      "Percentage Gain/Loss on Account: -0.25%\n"
     ]
    }
   ],
   "source": [
    "def position_size_calculator():\n",
    "    # Get user inputs\n",
    "    account_size = float(input(\"Enter your account size (in USD): \"))\n",
    "    percentage_risked = float(input(\"Enter the percentage of account size to risk per trade: \")) / 100\n",
    "    entry_price = float(input(\"Enter the entry price of the asset: \"))\n",
    "    stop_loss_price = float(input(\"Enter the stop-loss price: \"))\n",
    "    exit_price = float(input(\"Enter the exit price: \"))\n",
    "    leverage = float(input(\"Enter the leverage used: \"))\n",
    "    \n",
    "    # Calculate the amount of money risked per trade\n",
    "    amount_risked = account_size * percentage_risked\n",
    "    \n",
    "    # Calculate the difference between entry price and stop-loss price\n",
    "    price_difference = abs(entry_price - stop_loss_price)\n",
    "    \n",
    "    # Calculate the position size\n",
    "    position_size = (amount_risked / price_difference) * leverage\n",
    "\n",
    "     # Calculate risk to reward ratio\n",
    "    potential_profit = abs(exit_price - entry_price) * position_size / leverage\n",
    "    risk_to_reward_ratio = potential_profit / amount_risked\n",
    "    \n",
    "    # Calculate estimated PnL\n",
    "    estimated_pnl = potential_profit - amount_risked\n",
    "    \n",
    "    # Calculate percentage gain/loss on account value\n",
    "    percentage_gain_loss = (estimated_pnl / account_size) * 100\n",
    "    \n",
    "    # Output the results\n",
    "    print(f\"\\n--- Position Size Calculator ---\")\n",
    "    print(f\"Account Size: ${account_size:.2f}\")\n",
    "    print(f\"Percentage Risked: {percentage_risked * 100:.2f}%\")\n",
    "    print(f\"Entry Price: ${entry_price:.2f}\")\n",
    "    print(f\"Stop-Loss Price: ${stop_loss_price:.2f}\")\n",
    "    print(f\"Exit Price: ${exit_price:.2f}\")\n",
    "    print(f\"Leverage Used: {leverage:.2f}x\")\n",
    "    print(f\"Position Size: ${position_size:.2f} (notional value)\")\n",
    "    print(f\"Risk to Reward Ratio: {risk_to_reward_ratio:.2f}\")\n",
    "    print(f\"Estimated PnL: ${estimated_pnl:.2f}\")\n",
    "    print(f\"Percentage Gain/Loss on Account: {percentage_gain_loss:.2f}%\")\n",
    "\n",
    "# Run the calculator\n",
    "position_size_calculator()\n"
   ]
  }
 ],
 "metadata": {
  "kernelspec": {
   "display_name": "Python 3",
   "language": "python",
   "name": "python3"
  },
  "language_info": {
   "codemirror_mode": {
    "name": "ipython",
    "version": 3
   },
   "file_extension": ".py",
   "mimetype": "text/x-python",
   "name": "python",
   "nbconvert_exporter": "python",
   "pygments_lexer": "ipython3",
   "version": "3.9.13"
  }
 },
 "nbformat": 4,
 "nbformat_minor": 2
}
